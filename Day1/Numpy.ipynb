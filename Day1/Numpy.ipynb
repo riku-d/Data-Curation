{
 "cells": [
  {
   "cell_type": "markdown",
   "id": "4d60837d-df22-4904-86e6-464fd5bfd103",
   "metadata": {},
   "source": [
    "# NumPy"
   ]
  },
  {
   "cell_type": "code",
   "execution_count": 1,
   "id": "19d24f0a-909e-4908-9d2c-0539a76fd16d",
   "metadata": {},
   "outputs": [
    {
     "name": "stdout",
     "output_type": "stream",
     "text": [
      "The created array is: [0 1 2 3 4 5 6 7 8 9]\n",
      "[0 1 2 3 4 5 6 7 8 9]\n",
      "\n",
      "Array Attributes:\n",
      "Shape: (10,)\n",
      "Size: 10\n",
      "Data Type (dtype): int32\n"
     ]
    }
   ],
   "source": [
    "# Import the NumPy library, conventionally aliased as 'np'\n",
    "import numpy as np\n",
    "\n",
    "# Create a 1D array of integers from 0 up to (but not including) 10\n",
    "my_array = np.arange(10)\n",
    "\n",
    "# Print the array to the console\n",
    "print(\"The created array is:\",my_array)\n",
    "print(my_array)\n",
    "\n",
    "# Display the fundamental attributes of the array\n",
    "print(\"\\nArray Attributes:\")\n",
    "print(f\"Shape: {my_array.shape}\")\n",
    "print(f\"Size: {my_array.size}\")\n",
    "print(f\"Data Type (dtype): {my_array.dtype}\")"
   ]
  },
  {
   "cell_type": "code",
   "execution_count": 2,
   "id": "9017c1b2-d0a3-40c8-838c-e9b849dc9ac0",
   "metadata": {},
   "outputs": [
    {
     "name": "stdout",
     "output_type": "stream",
     "text": [
      "Array A: [1 2 3 4 5]\n",
      "Array B: [ 6  7  8  9 10]\n",
      "\n",
      "A + B = [ 7  9 11 13 15]\n",
      "A - B = [-5 -5 -5 -5 -5]\n",
      "A * B = [ 6 14 24 36 50]\n",
      "A / B = [0.16666667 0.28571429 0.375      0.44444444 0.5       ]\n"
     ]
    }
   ],
   "source": [
    "import numpy as np\n",
    "\n",
    "# Create two 1D arrays of the same size\n",
    "array_a = np.array([1,2,3,4,5])\n",
    "array_b = np.array([6,7,8,9,10])\n",
    "\n",
    "# Perform element-wise operations\n",
    "addition = array_a + array_b\n",
    "subtraction = array_a - array_b\n",
    "multiplication = array_a * array_b\n",
    "division = array_a / array_b\n",
    "\n",
    "# Print the results\n",
    "print(f\"Array A: {array_a}\")\n",
    "print(f\"Array B: {array_b}\\n\")\n",
    "print(f\"A + B = {addition}\")\n",
    "print(f\"A - B = {subtraction}\")\n",
    "print(f\"A * B = {multiplication}\")\n",
    "print(f\"A / B = {division}\")"
   ]
  },
  {
   "cell_type": "code",
   "execution_count": 8,
   "id": "632264e9-6b7d-48c1-a923-d9e4f34a00b0",
   "metadata": {},
   "outputs": [
    {
     "name": "stdout",
     "output_type": "stream",
     "text": [
      "Original 3x3 Matrix:\n",
      "[[0 1 2]\n",
      " [3 4 5]\n",
      " [6 7 8]]\n",
      "\n",
      "Second Row:\n",
      "[3 4 5]\n",
      "\n",
      "Third Column:\n",
      "[2 5 8]\n",
      "\n",
      "Top-left 2x2 Subarray:\n",
      "[[0 1]\n",
      " [3 4]]\n"
     ]
    }
   ],
   "source": [
    "import numpy as np\n",
    "\n",
    "# Create a 3x3 matrix using arange() and reshape()\n",
    "matrix = np.arange(9).reshape(3, 3)\n",
    "print(\"Original 3x3 Matrix:\")\n",
    "print(matrix)\n",
    "\n",
    "# 1. Print the second row\n",
    "# The index for the second row is 1 (since indexing is 0-based)\n",
    "# The ':' for the column means \"select all columns\"\n",
    "second_row = matrix[1]\n",
    "print(\"\\nSecond Row:\")\n",
    "print(second_row)\n",
    "\n",
    "# 2. Print the third column\n",
    "# The ':' for the row means \"select all rows\"\n",
    "# The index for the third column is 2\n",
    "third_column = matrix[:,2]\n",
    "print(\"\\nThird Column:\")\n",
    "print(third_column)\n",
    "\n",
    "# 3. Print a subarray (the top-left 2x2 corner)\n",
    "# Row slice ':2' selects rows from index 0 up to (but not including) 2\n",
    "# Column slice ':2' selects columns from index 0 up to (but not including) 2\n",
    "subarray = matrix[:2, :2]\n",
    "print(\"\\nTop-left 2x2 Subarray:\")\n",
    "print(subarray)"
   ]
  },
  {
   "cell_type": "code",
   "execution_count": 9,
   "id": "058666fe-24b6-4d19-949e-e30567d78809",
   "metadata": {},
   "outputs": [
    {
     "name": "stdout",
     "output_type": "stream",
     "text": [
      "Original 1D array:\n",
      "[ 0  1  2  3  4  5  6  7  8  9 10 11]\n",
      "\n",
      "Reshaped 3x4 2D array:\n",
      "[[ 0  1  2  3]\n",
      " [ 4  5  6  7]\n",
      " [ 8  9 10 11]]\n",
      "\n",
      "Flattened array:\n",
      "[ 0  1  2  3  4  5  6  7  8  9 10 11]\n"
     ]
    }
   ],
   "source": [
    "import numpy as np\n",
    "\n",
    "# Create a 1D array with 12 elements\n",
    "array_1d = np.arange(12)\n",
    "print(\"Original 1D array:\")\n",
    "print(array_1d)\n",
    "\n",
    "# Reshape the 1D array into a 3x4 2D array (3 rows, 4 columns)\n",
    "array_2d = array_1d.reshape(3, 4)\n",
    "print(\"\\nReshaped 3x4 2D array:\")\n",
    "print(array_2d)\n",
    "\n",
    "# Flatten the 2D array back to a 1D array\n",
    "flattened_array = array_2d.flatten()\n",
    "print(\"\\nFlattened array:\")\n",
    "print(flattened_array)"
   ]
  },
  {
   "cell_type": "code",
   "execution_count": 13,
   "id": "ec5e4a1e-36a6-4e8c-9b21-4d89745a7a39",
   "metadata": {},
   "outputs": [
    {
     "name": "stdout",
     "output_type": "stream",
     "text": [
      "Matrix A:\n",
      "[[1 2]\n",
      " [3 4]]\n",
      "\n",
      "Matrix B:\n",
      "[[5 6]\n",
      " [7 8]]\n",
      "\n",
      "Result of np.dot(A, B):\n",
      "[[19 22]\n",
      " [43 50]]\n"
     ]
    }
   ],
   "source": [
    "import numpy as np\n",
    "\n",
    "# Create two 2x2 matrices\n",
    "matrix_A = np.array([[1,2],\n",
    "                     [3,4]])\n",
    "\n",
    "matrix_B = np.array([[5,6],\n",
    "                     [7,8]])\n",
    "\n",
    "print(\"Matrix A:\")\n",
    "print(matrix_A)\n",
    "print(\"\\nMatrix B:\")\n",
    "print(matrix_B)\n",
    "\n",
    "# Perform matrix multiplication using np.dot()\n",
    "result_matrix = np.dot(matrix_A, matrix_B)\n",
    "\n",
    "print(\"\\nResult of np.dot(A, B):\")\n",
    "print(result_matrix)"
   ]
  },
  {
   "cell_type": "code",
   "execution_count": 10,
   "id": "7ab005a1-91f8-488d-bda1-0d55ba7da5d3",
   "metadata": {},
   "outputs": [
    {
     "name": "stdout",
     "output_type": "stream",
     "text": [
      "Generated Random Array:\n",
      "[ 52  93  15  72  61  21  83  87  75  75  88 100  24   3  22  53   2  88\n",
      "  30  38]\n",
      "\n",
      "NumPy Statistical Summary:\n",
      "Mean: 54.10\n",
      "Median: 57.0\n",
      "Standard Deviation: 31.47\n",
      "Minimum: 2\n",
      "Maximum: 100\n"
     ]
    }
   ],
   "source": [
    "import numpy as np\n",
    "\n",
    "# Set a seed for reproducibility of random numbers\n",
    "np.random.seed(42)\n",
    "\n",
    "# Generate an array of 20 random integers between 1 and 100 (inclusive)\n",
    "# The 'high' parameter in randint is exclusive, so we use 101.\n",
    "random_integers = np.random.randint(low=1, high=101, size=20)\n",
    "\n",
    "print(\"Generated Random Array:\")\n",
    "print(random_integers)\n",
    "\n",
    "# Calculate and print individual statistical measures\n",
    "mean_val = np.mean(random_integers)\n",
    "median_val = np.median(random_integers)\n",
    "std_dev = np.std(random_integers)\n",
    "min_val = np.min(random_integers)\n",
    "max_val = np.max(random_integers)\n",
    "\n",
    "print(\"\\nNumPy Statistical Summary:\")\n",
    "print(f\"Mean: {mean_val:.2f}\")\n",
    "print(f\"Median: {median_val}\")\n",
    "print(f\"Standard Deviation: {std_dev:.2f}\")\n",
    "print(f\"Minimum: {min_val}\")\n",
    "print(f\"Maximum: {max_val}\")"
   ]
  },
  {
   "cell_type": "code",
   "execution_count": 14,
   "id": "6b0b635c-99fd-4823-9c4e-b145e909925d",
   "metadata": {},
   "outputs": [
    {
     "name": "stdout",
     "output_type": "stream",
     "text": [
      "\n",
      "Pandas.describe() Summary:\n",
      "count     20.000000\n",
      "mean      54.100000\n",
      "std       32.289643\n",
      "min        2.000000\n",
      "25%       23.500000\n",
      "50%       57.000000\n",
      "75%       84.000000\n",
      "max      100.000000\n",
      "dtype: float64\n"
     ]
    }
   ],
   "source": [
    "# Import the pandas library\n",
    "import pandas as pd\n",
    "\n",
    "# Convert the NumPy array to a Pandas Series\n",
    "data_series = pd.Series(random_integers)\n",
    "\n",
    "# Use the.describe() method to get a statistical summary\n",
    "description = data_series.describe()\n",
    "\n",
    "print(\"\\nPandas.describe() Summary:\")\n",
    "print(description)"
   ]
  },
  {
   "cell_type": "code",
   "execution_count": 11,
   "id": "2555b878-cd73-440d-9c3d-4b45100c9833",
   "metadata": {},
   "outputs": [
    {
     "name": "stdout",
     "output_type": "stream",
     "text": [
      "4x4 Identity Matrix:\n",
      "[[1. 0. 0. 0.]\n",
      " [0. 1. 0. 0.]\n",
      " [0. 0. 1. 0.]\n",
      " [0. 0. 0. 1.]]\n",
      "\n",
      "Diagonal Matrix with  on the diagonal:\n",
      "[[1 0 0 0]\n",
      " [0 2 0 0]\n",
      " [0 0 3 0]\n",
      " [0 0 0 4]]\n"
     ]
    }
   ],
   "source": [
    "import numpy as np\n",
    "\n",
    "# 1. Create a 4x4 identity matrix\n",
    "# np.identity() creates a square matrix with 1s on the main diagonal.\n",
    "identity_matrix = np.identity(4)\n",
    "print(\"4x4 Identity Matrix:\")\n",
    "print(identity_matrix)\n",
    "\n",
    "# 2. Create a diagonal matrix with values \n",
    "# np.diag() takes a 1D array and places its elements on the main\n",
    "# diagonal of a new 2D array, with zeros elsewhere.\n",
    "diagonal_values = [1,2,3,4]\n",
    "diagonal_matrix = np.diag(diagonal_values)\n",
    "print(\"\\nDiagonal Matrix with  on the diagonal:\")\n",
    "print(diagonal_matrix)"
   ]
  },
  {
   "cell_type": "markdown",
   "id": "440c39b7-acae-4f52-95d1-72b964193ad7",
   "metadata": {},
   "source": [
    "# Pandas"
   ]
  },
  {
   "cell_type": "code",
   "execution_count": 17,
   "id": "531e61b5-7e8e-4003-a0f3-e63d1f003be6",
   "metadata": {},
   "outputs": [
    {
     "name": "stdout",
     "output_type": "stream",
     "text": [
      "Full DataFrame:\n",
      "    Name  Age  Marks\n",
      "0  Rohit   19     85\n",
      "1    Ash   20     92\n",
      "2  Dipsi   19     96\n",
      "3   Rick   21     76\n",
      "\n",
      "First row:\n",
      "    Name  Age  Marks\n",
      "0  Rohit   19     85\n",
      "\n",
      "Last row:\n",
      "   Name  Age  Marks\n",
      "3  Rick   21     76\n"
     ]
    }
   ],
   "source": [
    "import pandas as pd\n",
    "\n",
    "# Create a dictionary containing student data\n",
    "student_data = {\n",
    "    'Name':['Rohit','Ash',\"Dipsi\",\"Rick\"],\n",
    "    'Age': [19, 20, 19, 21],\n",
    "    'Marks': [85,92,96,76],\n",
    "}\n",
    "\n",
    "# Create a DataFrame from the dictionary\n",
    "df_students = pd.DataFrame(student_data)\n",
    "\n",
    "print(\"Full DataFrame:\")\n",
    "print(df_students)\n",
    "\n",
    "# Display the first row of the DataFrame\n",
    "print(\"\\nFirst row:\")\n",
    "print(df_students.head(1))\n",
    "\n",
    "# Display the last row of the DataFrame\n",
    "print(\"\\nLast row:\")\n",
    "print(df_students.tail(1))"
   ]
  },
  {
   "cell_type": "code",
   "execution_count": 2,
   "id": "7f6fd04c-ad69-4587-b43d-1235d40a77d1",
   "metadata": {},
   "outputs": [
    {
     "name": "stdout",
     "output_type": "stream",
     "text": [
      "      Name  Age       City\n",
      "0    Alice   24      Delhi\n",
      "1      Bob   27     Mumbai\n",
      "2  Charlie   22  Bangalore\n",
      "3    David   32    Chennai\n",
      "4      Eve   29    Kolkata\n",
      "Name      Charlie\n",
      "Age            22\n",
      "City    Bangalore\n",
      "Name: 2, dtype: object\n",
      "    Name  Age     City\n",
      "1    Bob   27   Mumbai\n",
      "3  David   32  Chennai\n",
      "27\n",
      "      Name       City\n",
      "1      Bob     Mumbai\n",
      "2  Charlie  Bangalore\n",
      "3    David    Chennai\n",
      "\n",
      "\n",
      "Name      Charlie\n",
      "Age            22\n",
      "City    Bangalore\n",
      "Name: 2, dtype: object\n",
      "    Name  Age     City\n",
      "0  Alice   24    Delhi\n",
      "4    Eve   29  Kolkata\n",
      "27\n",
      "      Name  Age\n",
      "0    Alice   24\n",
      "1      Bob   27\n",
      "2  Charlie   22\n"
     ]
    }
   ],
   "source": [
    "import pandas as pd\n",
    "\n",
    "# Create a sample DataFrame\n",
    "data = {\n",
    "    'Name': ['Alice', 'Bob', 'Charlie', 'David', 'Eve'],\n",
    "    'Age': [24, 27, 22, 32, 29],\n",
    "    'City': ['Delhi', 'Mumbai', 'Bangalore', 'Chennai', 'Kolkata']\n",
    "}\n",
    "\n",
    "df = pd.DataFrame(data)\n",
    "print(df)\n",
    "# Access the row with label/index 2\n",
    "print(df.loc[2])\n",
    "\n",
    "# Access multiple rows by label\n",
    "print(df.loc[[1, 3]])\n",
    "\n",
    "# Access a specific value (e.g., Age of person at index 1)\n",
    "print(df.loc[1, 'Age'])\n",
    "\n",
    "# Access rows 1 to 3 and only 'Name' and 'City' columns\n",
    "print(df.loc[1:3, ['Name', 'City']])\n",
    "print('\\n')\n",
    "\n",
    "# Access the row at position 2\n",
    "print(df.iloc[2])\n",
    "\n",
    "# Access multiple rows by index position\n",
    "print(df.iloc[[0, 4]])\n",
    "\n",
    "# Access specific cell (e.g., row 1, column 1 => Age of Bob)\n",
    "print(df.iloc[1, 1])\n",
    "\n",
    "# Access rows 0 to 2 and first two columns\n",
    "print(df.iloc[0:3, 0:2])\n",
    "\n"
   ]
  },
  {
   "cell_type": "code",
   "execution_count": 22,
   "id": "cb4a8656-6493-4006-a3b8-4a3f203ae29e",
   "metadata": {},
   "outputs": [
    {
     "name": "stdout",
     "output_type": "stream",
     "text": [
      "Original DataFrame:\n",
      "       Name  Age  Marks\n",
      "0    Alice   24     85\n",
      "1      Bob   27     67\n",
      "2  Charlie   22     90\n",
      "3    David   32     45\n",
      "4      Eve   29     76\n",
      "\n",
      "After Adding 'Grade' Column:\n",
      "       Name  Age  Marks Grade\n",
      "0    Alice   24     85     A\n",
      "1      Bob   27     67     C\n",
      "2  Charlie   22     90     A\n",
      "3    David   32     45     D\n",
      "4      Eve   29     76     B\n",
      "\n",
      "After Deleting 'Age' Column:\n",
      "       Name  Marks Grade\n",
      "0    Alice     85     A\n",
      "1      Bob     67     C\n",
      "2  Charlie     90     A\n",
      "3    David     45     D\n",
      "4      Eve     76     B\n"
     ]
    }
   ],
   "source": [
    "import pandas as pd\n",
    "\n",
    "# Sample DataFrame\n",
    "data = {\n",
    "    'Name': ['Alice', 'Bob', 'Charlie', 'David', 'Eve'],\n",
    "    'Age': [24, 27, 22, 32, 29],\n",
    "    'Marks': [85, 67, 90, 45, 76]\n",
    "}\n",
    "\n",
    "df = pd.DataFrame(data)\n",
    "print(\"Original DataFrame:\\n\", df)\n",
    "\n",
    "# Add a new column \"Grade\" based on Marks\n",
    "def assign_grade(mark):\n",
    "    if mark >= 85:\n",
    "        return 'A'\n",
    "    elif mark >= 70:\n",
    "        return 'B'\n",
    "    elif mark >= 50:\n",
    "        return 'C'\n",
    "    else:\n",
    "        return 'D'\n",
    "\n",
    "df['Grade'] = df['Marks'].apply(assign_grade)\n",
    "print(\"\\nAfter Adding 'Grade' Column:\\n\", df)\n",
    "\n",
    "# Delete the \"Age\" column\n",
    "df.drop(columns='Age', inplace=True)\n",
    "print(\"\\nAfter Deleting 'Age' Column:\\n\", df)\n"
   ]
  },
  {
   "cell_type": "code",
   "execution_count": 27,
   "id": "bafec42a-9195-4e26-a518-ef29e264c7b7",
   "metadata": {},
   "outputs": [
    {
     "name": "stdout",
     "output_type": "stream",
     "text": [
      "Original DataFrame:\n",
      "     Name  Age   Marks     City\n",
      "0  Rohit    20     92  Kolkata\n",
      "1   Rick    21     56   Mumbai\n",
      "2    Ash    19     96    Delhi\n",
      "3  Dipsi    20     59  Chennai\n",
      "\n",
      "Filtered DataFrame (Marks >= 60):\n",
      "     Name  Age   Marks     City\n",
      "0  Rohit    20     92  Kolkata\n",
      "2    Ash    19     96    Delhi\n",
      "\n",
      "Filtered data written to 'filtered_students.csv'\n"
     ]
    }
   ],
   "source": [
    "import pandas as pd\n",
    "\n",
    "# Step 1: Read CSV into a DataFrame\n",
    "df = pd.read_csv('student.csv')\n",
    "print(\"Original DataFrame:\\n\", df)\n",
    "\n",
    "# Step 2: Filter students with Marks >= 60\n",
    "filtered_df = df[df['Marks'] >= 60]\n",
    "print(\"\\nFiltered DataFrame (Marks >= 60):\\n\", filtered_df)\n",
    "\n",
    "# Step 3: Write the filtered DataFrame to a new CSV\n",
    "filtered_df.to_csv('filtered_students.csv', index=False)\n",
    "print(\"\\nFiltered data written to 'filtered_students.csv'\")\n"
   ]
  },
  {
   "cell_type": "code",
   "execution_count": 28,
   "id": "a5e2b64f-9f1f-4a1b-82d6-72c2aac6ff58",
   "metadata": {},
   "outputs": [
    {
     "name": "stdout",
     "output_type": "stream",
     "text": [
      "Students with Marks > 75 (Name and Grade):\n",
      "\n",
      "      Name Grade\n",
      "0    Alice     A\n",
      "2  Charlie     A\n",
      "4      Eve     B\n"
     ]
    }
   ],
   "source": [
    "import pandas as pd\n",
    "\n",
    "# Sample DataFrame with Grades\n",
    "data = {\n",
    "    'Name': ['Alice', 'Bob', 'Charlie', 'David', 'Eve', 'Frank', 'Grace'],\n",
    "    'Marks': [85, 67, 90, 45, 76, 55, 30]\n",
    "}\n",
    "\n",
    "# Add a 'Grade' column based on marks\n",
    "def assign_grade(m):\n",
    "    if m >= 85:\n",
    "        return 'A'\n",
    "    elif m >= 70:\n",
    "        return 'B'\n",
    "    elif m >= 50:\n",
    "        return 'C'\n",
    "    else:\n",
    "        return 'D'\n",
    "\n",
    "df = pd.DataFrame(data)\n",
    "df['Grade'] = df['Marks'].apply(assign_grade)\n",
    "\n",
    "# Filter students with marks > 75\n",
    "filtered_df = df[df['Marks'] > 75][['Name', 'Grade']]\n",
    "\n",
    "# Display the result\n",
    "print(\"Students with Marks > 75 (Name and Grade):\\n\")\n",
    "print(filtered_df)\n"
   ]
  },
  {
   "cell_type": "code",
   "execution_count": 2,
   "id": "f6896ded-2e43-44e6-804c-0da4957441b2",
   "metadata": {},
   "outputs": [
    {
     "name": "stdout",
     "output_type": "stream",
     "text": [
      "Original DataFrame:\n",
      "   Employee Department  Salary\n",
      "0    Alice         HR   50000\n",
      "1      Bob         IT   60000\n",
      "2  Charlie    Finance   55000\n",
      "3    David         HR   52000\n",
      "4      Eve         IT   62000\n",
      "5    Frank    Finance   58000\n",
      "6    Grace         IT   61000\n",
      "7    Helen         HR   53000\n",
      "\n",
      "Average Salary by Department:\n",
      "   Department  Average_Salary\n",
      "0    Finance    56500.000000\n",
      "1         HR    51666.666667\n",
      "2         IT    61000.000000\n"
     ]
    }
   ],
   "source": [
    "import pandas as pd\n",
    "\n",
    "# Sample DataFrame with employee data\n",
    "data = {\n",
    "    'Employee': ['Alice', 'Bob', 'Charlie', 'David', 'Eve', 'Frank', 'Grace', 'Helen'],\n",
    "    'Department': ['HR', 'IT', 'Finance', 'HR', 'IT', 'Finance', 'IT', 'HR'],\n",
    "    'Salary': [50000, 60000, 55000, 52000, 62000, 58000, 61000, 53000]\n",
    "}\n",
    "\n",
    "df = pd.DataFrame(data)\n",
    "print(\"Original DataFrame:\\n\", df)\n",
    "\n",
    "# Group by Department and calculate average salary\n",
    "avg_salary = df.groupby('Department')['Salary'].mean().reset_index()\n",
    "\n",
    "# Rename column for clarity\n",
    "avg_salary.columns = ['Department', 'Average_Salary']\n",
    "\n",
    "print(\"\\nAverage Salary by Department:\\n\", avg_salary)\n"
   ]
  },
  {
   "cell_type": "code",
   "execution_count": 30,
   "id": "6ae0d9bb-e5eb-41cb-b837-66ee90f39aef",
   "metadata": {},
   "outputs": [
    {
     "name": "stdout",
     "output_type": "stream",
     "text": [
      "Original DataFrame with Missing Values:\n",
      "       Name   Age  Marks\n",
      "0    Alice  25.0   85.0\n",
      "1      Bob   NaN   67.0\n",
      "2  Charlie  30.0    NaN\n",
      "3    David  22.0   90.0\n",
      "4      Eve   NaN   76.0\n"
     ]
    }
   ],
   "source": [
    "import pandas as pd\n",
    "import numpy as np\n",
    "\n",
    "# Step 1: Create a DataFrame with missing values (NaN)\n",
    "data = {\n",
    "    'Name': ['Alice', 'Bob', 'Charlie', 'David', 'Eve'],\n",
    "    'Age': [25, np.nan, 30, 22, np.nan],\n",
    "    'Marks': [85, 67, np.nan, 90, 76]\n",
    "}\n",
    "\n",
    "df = pd.DataFrame(data)\n",
    "print(\"Original DataFrame with Missing Values:\\n\", df)\n"
   ]
  },
  {
   "cell_type": "code",
   "execution_count": 31,
   "id": "08f0122d-6ffa-4815-8f8a-fd30610060aa",
   "metadata": {},
   "outputs": [
    {
     "name": "stdout",
     "output_type": "stream",
     "text": [
      "\n",
      "DataFrame after fillna():\n",
      "       Name        Age  Marks\n",
      "0    Alice  25.000000   85.0\n",
      "1      Bob  25.666667   67.0\n",
      "2  Charlie  30.000000    0.0\n",
      "3    David  22.000000   90.0\n",
      "4      Eve  25.666667   76.0\n"
     ]
    }
   ],
   "source": [
    "# Fill missing values with a default value (e.g., 0 or a placeholder)\n",
    "filled_df = df.fillna({'Age': df['Age'].mean(), 'Marks': 0})\n",
    "\n",
    "print(\"\\nDataFrame after fillna():\\n\", filled_df)\n"
   ]
  },
  {
   "cell_type": "code",
   "execution_count": 33,
   "id": "714769e1-2bb5-4e2e-bb37-96dbabbbe87d",
   "metadata": {},
   "outputs": [
    {
     "name": "stdout",
     "output_type": "stream",
     "text": [
      "\n",
      "DataFrame after dropna():\n",
      "     Name   Age  Marks\n",
      "0  Alice  25.0   85.0\n",
      "3  David  22.0   90.0\n"
     ]
    }
   ],
   "source": [
    "# Drop rows where any value is missing\n",
    "dropped_df = df.dropna()\n",
    "print(\"\\nDataFrame after dropna():\\n\", dropped_df)\n"
   ]
  },
  {
   "cell_type": "markdown",
   "id": "8724f9bc-44e1-4b98-a89f-8d77c9d58f55",
   "metadata": {},
   "source": [
    "# MatplotLib"
   ]
  },
  {
   "cell_type": "code",
   "execution_count": 4,
   "id": "151fa999-fa68-4ee8-84fd-f09237a71e01",
   "metadata": {},
   "outputs": [
    {
     "data": {
      "image/png": "[encoded data removed]",
      "text/plain": [
       "<Figure size 640x480 with 1 Axes>"
      ]
     },
     "metadata": {},
     "output_type": "display_data"
    }
   ],
   "source": [
    "import matplotlib.pyplot as plt\n",
    "\n",
    "x = [1, 2, 3, 4]\n",
    "y = [2, 4, 6, 8]\n",
    "\n",
    "plt.plot(x, y, marker='o')\n",
    "plt.title('Simple Line Plot')\n",
    "plt.xlabel('X values')\n",
    "plt.ylabel('Y values')\n",
    "plt.grid(True)\n",
    "plt.show()\n"
   ]
  },
  {
   "cell_type": "code",
   "execution_count": 5,
   "id": "eb570441-2ce4-4a42-ac9e-fd5dc4037f34",
   "metadata": {},
   "outputs": [
    {
     "data": {
      "image/png": "[encoded data removed]",
      "text/plain": [
       "<Figure size 640x480 with 1 Axes>"
      ]
     },
     "metadata": {},
     "output_type": "display_data"
    }
   ],
   "source": [
    "products = ['Product A', 'Product B', 'Product C', 'Product D']\n",
    "sales = [150, 200, 100, 180]\n",
    "\n",
    "plt.bar(products, sales, color='skyblue')\n",
    "plt.title('Sales of 4 Products')\n",
    "plt.xlabel('Products')\n",
    "plt.ylabel('Sales')\n",
    "plt.show()\n"
   ]
  },
  {
   "cell_type": "code",
   "execution_count": 7,
   "id": "f25571cf-47ef-4f09-a27d-0426aa5e4f19",
   "metadata": {},
   "outputs": [
    {
     "data": {
      "image/png": "[encoded data removed]",
      "text/plain": [
       "<Figure size 640x480 with 1 Axes>"
      ]
     },
     "metadata": {},
     "output_type": "display_data"
    }
   ],
   "source": [
    "import numpy as np\n",
    "\n",
    "data = np.random.randint(0, 101, size=50)\n",
    "\n",
    "plt.hist(data, bins=10, color='orange', edgecolor='black')\n",
    "plt.title('Histogram of Random Numbers (0–100)')\n",
    "plt.xlabel('Value Range')\n",
    "plt.ylabel('Frequency')\n",
    "plt.show()\n"
   ]
  },
  {
   "cell_type": "code",
   "execution_count": 37,
   "id": "2da174d0-d78d-452e-a415-f11976f879d5",
   "metadata": {},
   "outputs": [
    {
     "data": {
      "image/png": "[encoded data removed]",
      "text/plain": [
       "<Figure size 640x480 with 1 Axes>"
      ]
     },
     "metadata": {},
     "output_type": "display_data"
    }
   ],
   "source": [
    "activities = ['Sleep', 'Study', 'Work', 'Exercise', 'Leisure']\n",
    "time_spent = [8, 4, 8, 2, 2]  # hours per day\n",
    "\n",
    "plt.pie(time_spent, labels=activities, autopct='%1.1f%%', startangle=90)\n",
    "plt.title('Daily Activities Breakdown')\n",
    "plt.axis('equal')  # Makes the pie chart circular\n",
    "plt.show()\n"
   ]
  },
  {
   "cell_type": "code",
   "execution_count": 38,
   "id": "a62c0428-8e6f-4f2a-abb0-6d1e78b8c5ac",
   "metadata": {},
   "outputs": [
    {
     "data": {
      "image/png": "[encoded data removed]",
      "text/plain": [
       "<Figure size 640x480 with 1 Axes>"
      ]
     },
     "metadata": {},
     "output_type": "display_data"
    }
   ],
   "source": [
    "x = np.random.rand(20)\n",
    "y = np.random.rand(20)\n",
    "\n",
    "plt.scatter(x, y, color='green', marker='x')\n",
    "plt.title('Scatter Plot of Random Values')\n",
    "plt.xlabel('X values')\n",
    "plt.ylabel('Y values')\n",
    "plt.grid(True)\n",
    "plt.show()\n"
   ]
  },
  {
   "cell_type": "code",
   "execution_count": null,
   "id": "dd86aa38-2491-432b-b528-20d1b9a68415",
   "metadata": {},
   "outputs": [],
   "source": []
  }
 ],
 "metadata": {
  "kernelspec": {
   "display_name": "base",
   "language": "python",
   "name": "python3"
  },
  "language_info": {
   "codemirror_mode": {
    "name": "ipython",
    "version": 3
   },
   "file_extension": ".py",
   "mimetype": "text/x-python",
   "name": "python",
   "nbconvert_exporter": "python",
   "pygments_lexer": "ipython3",
   "version": "3.12.4"
  }
 },
 "nbformat": 4,
 "nbformat_minor": 5
}
